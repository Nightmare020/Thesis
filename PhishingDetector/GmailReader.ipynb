{
 "cells": [
  {
   "cell_type": "markdown",
   "metadata": {},
   "source": [
    "# LECTURA DE CORREOS DE GMAIL"
   ]
  },
  {
   "cell_type": "markdown",
   "metadata": {},
   "source": [
    "## CREAR CLIENTE DEL MAIL"
   ]
  },
  {
   "cell_type": "code",
   "execution_count": 9,
   "metadata": {},
   "outputs": [],
   "source": [
    "# Python 3.8.0\n",
    "import time\n",
    "import imaplib\n",
    "import email\n",
    "import csv\n",
    "import traceback\n",
    "import re\n",
    "import webbrowser\n",
    "import os\n",
    "import unidecode\n",
    "import unicodedata\n",
    "import datetime as dt\n",
    "from datetime import timezone\n",
    "from email.header import Header\n",
    "from email.header import decode_header\n",
    "from unicodedata import normalize\n",
    "from sklearn import preprocessing\n",
    "from nltk.tokenize import RegexpTokenizer  \n",
    "from nltk.stem.snowball import SnowballStemmer\n",
    "from sklearn.feature_extraction.text import CountVectorizer\n",
    "\n",
    "from nltp import Preprocessor\n",
    "from warnings import simplefilter\n",
    "from nltk.tokenize import RegexpTokenizer  \n",
    "simplefilter(action='ignore', category=FutureWarning)\n",
    "\n",
    "import nltk\n",
    "from nltk.corpus import stopwords\n",
    "from nltk.stem import WordNetLemmatizer\n",
    "from sklearn.feature_extraction.text import TfidfVectorizer\n",
    "\n",
    "# -------------------------------------------------\n",
    "#\n",
    "# Utility to read email from Gmail Using Python\n",
    "#\n",
    "# ------------------------------------------------\n",
    "# account credentials\n",
    "username = \"a.vazquezgomez1996@gmail.com\"\n",
    "with open(\"contraseña.txt\", \"r\") as fd:\n",
    "        password = fd.read().strip()"
   ]
  },
  {
   "cell_type": "code",
   "execution_count": 10,
   "metadata": {},
   "outputs": [
    {
     "data": {
      "text/plain": [
       "('OK', [b'9'])"
      ]
     },
     "execution_count": 10,
     "metadata": {},
     "output_type": "execute_result"
    }
   ],
   "source": [
    "SMTP_SERVER = \"imap.gmail.com\" \n",
    "SMTP_PORT = 993\n",
    "mail = imaplib.IMAP4_SSL(SMTP_SERVER)\n",
    "mail.login(username,password)\n",
    "mail.select('inbox')"
   ]
  },
  {
   "cell_type": "code",
   "execution_count": 11,
   "metadata": {},
   "outputs": [],
   "source": [
    "data = mail.search(None, 'ALL')\n",
    "mail_ids = data[1]\n",
    "id_list = mail_ids[0].split()   \n",
    "first_email_id = int(id_list[0])\n",
    "latest_email_id = int(id_list[-1])\n",
    "url = ''"
   ]
  },
  {
   "cell_type": "markdown",
   "metadata": {},
   "source": [
    "### LEER Y ALMACENAR CORREOS DEL GMAIL"
   ]
  },
  {
   "cell_type": "code",
   "execution_count": 12,
   "metadata": {},
   "outputs": [],
   "source": [
    "def get_body(msg):\n",
    "    if msg.is_multipart():\n",
    "        return get_body(msg.get_payload(0))\n",
    "    else:\n",
    "        return msg.get_payload(None, True)"
   ]
  },
  {
   "cell_type": "code",
   "execution_count": 13,
   "metadata": {},
   "outputs": [
    {
     "data": {
      "text/plain": [
       "24"
      ]
     },
     "execution_count": 13,
     "metadata": {},
     "output_type": "execute_result"
    }
   ],
   "source": [
    "gmails_file = open(\"gmail_mails.csv\", \"w+\", newline = '')\n",
    "writer = csv.writer(gmails_file)\n",
    "writer.writerow([\"from\", \"subject\", \"body\", \"urls\"])"
   ]
  },
  {
   "cell_type": "code",
   "execution_count": 14,
   "metadata": {},
   "outputs": [],
   "source": [
    "def decode_mime_words(s):\n",
    "    return u''.join(\n",
    "        word.decode(encoding or 'utf8') if isinstance(word, bytes) else word\n",
    "        for word, encoding in email.header.decode_header(s))"
   ]
  },
  {
   "cell_type": "code",
   "execution_count": 15,
   "metadata": {},
   "outputs": [
    {
     "name": "stdout",
     "output_type": "stream",
     "text": [
      "https://store.asuswebstorage.com/special-offer/?utm_source=167&utm_medium=button&utm_campaign=SystemMail&coupon1=M167500G300&coupon2=M1671TB450>\n",
      "http://www.iptruster.com/lt/index.php/campaigns/jl459v45fkc36/track-url/vd76640nlg51e/4480a6c0f44350ff8cd9a942cca4bd144c44bf8f>\n",
      "https://www.google.com/url?q=http://www.phxaffiliates.com/&amp;source=gmail&amp;ust=1623389582570000&amp;usg=AFQjCNFWg9FxdFzAL_xU3LHI8FC4ytV5zA\"\n",
      "http://code.google.com/a/apache-extras.org/p/phpmailer/)\n",
      "https://bit.ly/3pBFs2i\n"
     ]
    }
   ],
   "source": [
    "for i in range(latest_email_id,first_email_id-1, -1):\n",
    "    data = mail.fetch(str(i), '(RFC822)' )\n",
    "    for response_part in data:\n",
    "        arr = response_part[0]\n",
    "        if isinstance(arr, tuple):\n",
    "            msg = email.message_from_string(str(arr[1],'utf-8'))\n",
    "            email_subject_str = decode_mime_words(msg['subject'])\n",
    "            email_subject_accent = str.join(\" \", email_subject_str.splitlines())\n",
    "            email_subject = unidecode.unidecode(email_subject_accent)\n",
    "            email_from = msg['from']\n",
    "            email_body_str = str(get_body(msg).decode('utf-8'))\n",
    "            email_body_accent = str.join(\" \", email_body_str.splitlines())\n",
    "            email_body = unidecode.unidecode(email_body_accent)\n",
    "            urls_raw = re.search(\"(?P<url>https?://[^\\s]+)\", email_body)\n",
    "            if urls_raw is not None:\n",
    "                urls = re.search(\"(?P<url>https?://[^\\s]+)\", email_body).group(\"url\")\n",
    "                print(urls)\n",
    "            else:\n",
    "                urls = ''\n",
    "            writer.writerow([email_from, email_subject, email_body, urls])\n",
    "            \n",
    "gmails_file.close()"
   ]
  },
  {
   "cell_type": "markdown",
   "metadata": {},
   "source": [
    "# CLASIFICACIÓN DE CORREOS DE GMAIL"
   ]
  },
  {
   "cell_type": "code",
   "execution_count": null,
   "metadata": {},
   "outputs": [],
   "source": [
    "import pandas as pd\n",
    "import numpy as np\n",
    "import seaborn as sns"
   ]
  },
  {
   "cell_type": "markdown",
   "metadata": {},
   "source": [
    "### PREPROCESAMIENTO DE DATOS"
   ]
  },
  {
   "cell_type": "code",
   "execution_count": null,
   "metadata": {},
   "outputs": [],
   "source": [
    "gmails = pd.read_csv('gmail_mails.csv')\n",
    "gmails"
   ]
  },
  {
   "cell_type": "code",
   "execution_count": null,
   "metadata": {},
   "outputs": [],
   "source": [
    "# Data Cleaning for Mails\n",
    "gmails_clean = []\n",
    "lemmatizer = WordNetLemmatizer()\n",
    "\n",
    "for gmail in gmails['body']:\n",
    "    # Remove tabs and new lines\n",
    "    removed_tabs_newline = re.sub('[\\n|\\t]',' ', gmail)\n",
    "    \n",
    "    # Remove special characters and digits\n",
    "    removed_spchar_digits = re.sub('[^a-zA-Z]',' ',removed_tabs_newline)\n",
    "    \n",
    "    # Convert emails into lower case\n",
    "    lower_case_gmail = removed_spchar_digits.lower()\n",
    "    \n",
    "    # Tokenize the emails by words / split by words\n",
    "    tokenized_gmail = lower_case_gmail.split()\n",
    "    \n",
    "    # Remove stopwords\n",
    "    filtered_words = [word for word in tokenized_gmail if word not in stopwords.words('english')]\n",
    "    \n",
    "    # Lemmetize words\n",
    "    lemmetized_words = [lemmatizer.lemmatize(word) for word in tokenized_gmail]\n",
    "    \n",
    "    # Build corpus of emails\n",
    "    gmail = ' '.join(lemmetized_words)\n",
    "    gmails_clean.append(gmail)"
   ]
  },
  {
   "cell_type": "code",
   "execution_count": null,
   "metadata": {},
   "outputs": [],
   "source": [
    "# Creating vectors using TF-IDF\n",
    "\n",
    "tfidf = TfidfVectorizer(max_features=5000)\n",
    "vectors = tfidf.fit_transform(gmails_clean).toarray()\n",
    "\n",
    "# Extracting independent and dependent variables from the dataset\n",
    "X_mails = pd.DataFrame(vectors)\n",
    "print(X_mails)\n",
    "print(X_mails.shape)"
   ]
  },
  {
   "cell_type": "code",
   "execution_count": null,
   "metadata": {},
   "outputs": [],
   "source": [
    "gmails_urls = gmails\n",
    "gmails_urls = gmails_urls.drop(columns=['from', 'subject', 'body'])\n",
    "gmails_urls.dropna(inplace=True)\n",
    "print(gmails_urls)"
   ]
  },
  {
   "cell_type": "code",
   "execution_count": null,
   "metadata": {},
   "outputs": [],
   "source": [
    "tokenizer = RegexpTokenizer(r'[A-Za-z]+')\n",
    "gmails_urls.loc[:,'text_tokenized'] = gmails_urls.urls.map(lambda t: tokenizer.tokenize(t))\n",
    "gmails_urls.head()"
   ]
  },
  {
   "cell_type": "code",
   "execution_count": null,
   "metadata": {},
   "outputs": [],
   "source": [
    "root_words = SnowballStemmer(\"english\")\n",
    "gmails_urls.loc[:,'root_words'] = gmails_urls['text_tokenized'].map(lambda l: [root_words.stem(word) for word in l])\n",
    "gmails_urls.head()"
   ]
  },
  {
   "cell_type": "code",
   "execution_count": null,
   "metadata": {},
   "outputs": [],
   "source": [
    "gmails_urls.loc[:,'text_sent'] = gmails_urls['root_words'].map(lambda l: ' '.join(l))\n",
    "gmails_urls.head()"
   ]
  },
  {
   "cell_type": "code",
   "execution_count": null,
   "metadata": {},
   "outputs": [],
   "source": [
    "c = CountVectorizer()\n",
    "X_urls = c.fit_transform(gmails_urls.text_sent)\n",
    "print(X_urls)"
   ]
  },
  {
   "cell_type": "markdown",
   "metadata": {},
   "source": [
    "### PREDICCIONES CON CORREOS LEIDOS"
   ]
  },
  {
   "cell_type": "code",
   "execution_count": null,
   "metadata": {},
   "outputs": [],
   "source": [
    "gmails_predict = gmails\n",
    "gmails_predict"
   ]
  },
  {
   "cell_type": "code",
   "execution_count": null,
   "metadata": {},
   "outputs": [],
   "source": [
    "# load model from file\n",
    "import pickle\n",
    "loaded_model_mails = pickle.load(open(\"NaiveBayesClassifier_mails.pickle.dat\", \"rb\"))\n",
    "loaded_model_mails"
   ]
  },
  {
   "cell_type": "code",
   "execution_count": null,
   "metadata": {},
   "outputs": [],
   "source": [
    "# load model from file\n",
    "loaded_model_urls = pickle.load(open(\"NaiveBayesClassifier_urls.pickle.dat\", \"rb\"))\n",
    "loaded_model_urls"
   ]
  },
  {
   "cell_type": "code",
   "execution_count": null,
   "metadata": {},
   "outputs": [],
   "source": [
    "ham_gmails = open('ham_gmails.txt', 'w+')\n",
    "spam_gmails = open('spam_gmails.txt', 'w+')\n",
    "phishing_gmails = open('phishing_gmails.txt', 'w+')"
   ]
  },
  {
   "cell_type": "code",
   "execution_count": null,
   "metadata": {},
   "outputs": [],
   "source": [
    "url_predict = loaded_model_urls.predict(X_urls)\n",
    "mails_urls['url label'] = url_predict\n",
    "print(url_predict)"
   ]
  },
  {
   "cell_type": "code",
   "execution_count": null,
   "metadata": {},
   "outputs": [],
   "source": [
    "gmail_predict = loaded_model_mails.predict(X_mails)\n",
    "gmails_predict['mail label'] = gmail_predict\n",
    "gmail_predict.shape()"
   ]
  },
  {
   "cell_type": "code",
   "execution_count": null,
   "metadata": {},
   "outputs": [],
   "source": [
    "for i, rows in gmails_predict.iterrows():\n",
    "    if gmail_predict['urls'][i] is not None:\n",
    "        if gmail_predict['url label'][i] is 1:\n",
    "            phishing_gmails.write(\"From : \" + gmail_predict['from'][i]+ '\\n')\n",
    "            phishing_gmails.write(\"Subject : \" + gmail_predict['subject'][i]+ '\\n')\n",
    "            phishing_gmails.write(gmail_predict['content'][i]+ '\\n')\n",
    "            break\n",
    "    if gmail_predict['mail label'][i] is 1:\n",
    "        spam_gmails.write(\"From : \" + gmail_predict['from'][i]+ '\\n')\n",
    "        spam_gmails.write(\"Subject : \" + gmail_predict['subject'][i]+ '\\n')\n",
    "        spam_gmails.write(gmail_predict['content'][i]+ '\\n')\n",
    "    else:\n",
    "        ham_gmails.write(\"From : \" + gmail_predict['from'][i]+ '\\n')\n",
    "        ham_gmails.write(\"Subject : \" + gmail_predict['subject'][i]+ '\\n')\n",
    "        ham_gmails.write(gmail_predict['content'][i]+ '\\n')\n",
    "        \n",
    "phishing_gmails.close()\n",
    "spam_gmails.close()\n",
    "ham_gmails.close()\n",
    "gmails.close()\n",
    "gmail_predict.close()"
   ]
  }
 ],
 "metadata": {
  "kernelspec": {
   "display_name": "Python 3",
   "language": "python",
   "name": "python3"
  },
  "language_info": {
   "codemirror_mode": {
    "name": "ipython",
    "version": 3
   },
   "file_extension": ".py",
   "mimetype": "text/x-python",
   "name": "python",
   "nbconvert_exporter": "python",
   "pygments_lexer": "ipython3",
   "version": "3.7.4"
  }
 },
 "nbformat": 4,
 "nbformat_minor": 4
}
